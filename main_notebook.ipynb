{
 "cells": [
  {
   "cell_type": "markdown",
   "metadata": {},
   "source": [
    "# Global Online Gaming Behaviour Analysis\n",
    "\n",
    "### This project aims to explore specific metrics from global data collected from gamers across various regions.\n",
    "In our analysis, we will use the following python libraries:\n",
    "\n",
    "[![NumPy](https://img.shields.io/badge/NumPy-1.21%2B-013243?logo=numpy&logoColor=white)](https://numpy.org/) [![Pandas](https://img.shields.io/badge/Pandas-1.3%2B-150458?logo=pandas&logoColor=white)](https://pandas.pydata.org/) [![Matplotlib](https://img.shields.io/badge/Matplotlib-3.4%2B-11557c?logo=matplotlib&logoColor=white)](https://matplotlib.org)\n",
    "\n",
    "Dataset imported from:\n",
    "\n",
    "[![Kaggle](https://img.shields.io/badge/Kaggle-1.5%2B-20BEFF?logo=kaggle&logoColor=white)](https://www.kaggle.com/)\n",
    "\n",
    "[(linked here)](https://www.kaggle.com/datasets/rabieelkharoua/predict-online-gaming-behavior-dataset)\n"
   ]
  },
  {
   "cell_type": "code",
   "execution_count": 1,
   "metadata": {},
   "outputs": [],
   "source": [
    "#importing required libraries\n",
    "import numpy as np\n",
    "import pandas as pd\n",
    "import matplotlib.pyplot as plt"
   ]
  },
  {
   "cell_type": "code",
   "execution_count": 3,
   "metadata": {},
   "outputs": [
    {
     "data": {
      "text/html": [
       "<div>\n",
       "<style scoped>\n",
       "    .dataframe tbody tr th:only-of-type {\n",
       "        vertical-align: middle;\n",
       "    }\n",
       "\n",
       "    .dataframe tbody tr th {\n",
       "        vertical-align: top;\n",
       "    }\n",
       "\n",
       "    .dataframe thead th {\n",
       "        text-align: right;\n",
       "    }\n",
       "</style>\n",
       "<table border=\"1\" class=\"dataframe\">\n",
       "  <thead>\n",
       "    <tr style=\"text-align: right;\">\n",
       "      <th></th>\n",
       "      <th>PlayerID</th>\n",
       "      <th>Age</th>\n",
       "      <th>Gender</th>\n",
       "      <th>Location</th>\n",
       "      <th>GameGenre</th>\n",
       "      <th>PlayTimeHours</th>\n",
       "      <th>InGamePurchases</th>\n",
       "      <th>GameDifficulty</th>\n",
       "      <th>SessionsPerWeek</th>\n",
       "      <th>AvgSessionDurationMinutes</th>\n",
       "      <th>PlayerLevel</th>\n",
       "      <th>AchievementsUnlocked</th>\n",
       "      <th>EngagementLevel</th>\n",
       "    </tr>\n",
       "  </thead>\n",
       "  <tbody>\n",
       "    <tr>\n",
       "      <th>0</th>\n",
       "      <td>9000</td>\n",
       "      <td>43</td>\n",
       "      <td>Male</td>\n",
       "      <td>Other</td>\n",
       "      <td>Strategy</td>\n",
       "      <td>16.271119</td>\n",
       "      <td>0</td>\n",
       "      <td>Medium</td>\n",
       "      <td>6</td>\n",
       "      <td>108</td>\n",
       "      <td>79</td>\n",
       "      <td>25</td>\n",
       "      <td>Medium</td>\n",
       "    </tr>\n",
       "    <tr>\n",
       "      <th>1</th>\n",
       "      <td>9001</td>\n",
       "      <td>29</td>\n",
       "      <td>Female</td>\n",
       "      <td>USA</td>\n",
       "      <td>Strategy</td>\n",
       "      <td>5.525961</td>\n",
       "      <td>0</td>\n",
       "      <td>Medium</td>\n",
       "      <td>5</td>\n",
       "      <td>144</td>\n",
       "      <td>11</td>\n",
       "      <td>10</td>\n",
       "      <td>Medium</td>\n",
       "    </tr>\n",
       "    <tr>\n",
       "      <th>2</th>\n",
       "      <td>9002</td>\n",
       "      <td>22</td>\n",
       "      <td>Female</td>\n",
       "      <td>USA</td>\n",
       "      <td>Sports</td>\n",
       "      <td>8.223755</td>\n",
       "      <td>0</td>\n",
       "      <td>Easy</td>\n",
       "      <td>16</td>\n",
       "      <td>142</td>\n",
       "      <td>35</td>\n",
       "      <td>41</td>\n",
       "      <td>High</td>\n",
       "    </tr>\n",
       "    <tr>\n",
       "      <th>3</th>\n",
       "      <td>9003</td>\n",
       "      <td>35</td>\n",
       "      <td>Male</td>\n",
       "      <td>USA</td>\n",
       "      <td>Action</td>\n",
       "      <td>5.265351</td>\n",
       "      <td>1</td>\n",
       "      <td>Easy</td>\n",
       "      <td>9</td>\n",
       "      <td>85</td>\n",
       "      <td>57</td>\n",
       "      <td>47</td>\n",
       "      <td>Medium</td>\n",
       "    </tr>\n",
       "    <tr>\n",
       "      <th>4</th>\n",
       "      <td>9004</td>\n",
       "      <td>33</td>\n",
       "      <td>Male</td>\n",
       "      <td>Europe</td>\n",
       "      <td>Action</td>\n",
       "      <td>15.531945</td>\n",
       "      <td>0</td>\n",
       "      <td>Medium</td>\n",
       "      <td>2</td>\n",
       "      <td>131</td>\n",
       "      <td>95</td>\n",
       "      <td>37</td>\n",
       "      <td>Medium</td>\n",
       "    </tr>\n",
       "  </tbody>\n",
       "</table>\n",
       "</div>"
      ],
      "text/plain": [
       "   PlayerID  Age  Gender Location GameGenre  PlayTimeHours  InGamePurchases  \\\n",
       "0      9000   43    Male    Other  Strategy      16.271119                0   \n",
       "1      9001   29  Female      USA  Strategy       5.525961                0   \n",
       "2      9002   22  Female      USA    Sports       8.223755                0   \n",
       "3      9003   35    Male      USA    Action       5.265351                1   \n",
       "4      9004   33    Male   Europe    Action      15.531945                0   \n",
       "\n",
       "  GameDifficulty  SessionsPerWeek  AvgSessionDurationMinutes  PlayerLevel  \\\n",
       "0         Medium                6                        108           79   \n",
       "1         Medium                5                        144           11   \n",
       "2           Easy               16                        142           35   \n",
       "3           Easy                9                         85           57   \n",
       "4         Medium                2                        131           95   \n",
       "\n",
       "   AchievementsUnlocked EngagementLevel  \n",
       "0                    25          Medium  \n",
       "1                    10          Medium  \n",
       "2                    41            High  \n",
       "3                    47          Medium  \n",
       "4                    37          Medium  "
      ]
     },
     "execution_count": 3,
     "metadata": {},
     "output_type": "execute_result"
    }
   ],
   "source": [
    "#importing the dataset\n",
    "gaming = pd.read_csv('./assets/online_gaming_behavior_dataset.csv', engine='pyarrow', dtype_backend='pyarrow')\n",
    "gaming.head()"
   ]
  },
  {
   "cell_type": "markdown",
   "metadata": {},
   "source": [
    "### From above, we can see that our main metrics include:\n",
    "- PlayerID\n",
    "- Age\n",
    "- Gender\n",
    "- Location\n",
    "- GameGenre\n",
    "\n",
    "- **PlayTimeHours (Metric of Interest)**\n",
    "\n",
    "- **InGamePurchases (Metric of Interest)**\n",
    "\n",
    "- **GameDifficulty (Metric of Interest)**\n",
    "\n",
    "- SessionsPerWeek\n",
    "- AvgSessionDurationMinutes\n",
    "- PlayerLevel\n",
    "- AchievementsUnlocked\n",
    "\n",
    "- **EngagementLevel (Metric of Interest)**"
   ]
  },
  {
   "cell_type": "code",
   "execution_count": 6,
   "metadata": {},
   "outputs": [
    {
     "data": {
      "text/plain": [
       "<ArrowExtensionArray>\n",
       "['Other', 'USA', 'Europe', 'Asia']\n",
       "Length: 4, dtype: string[pyarrow]"
      ]
     },
     "execution_count": 6,
     "metadata": {},
     "output_type": "execute_result"
    }
   ],
   "source": [
    "gaming['Location'].unique()"
   ]
  },
  {
   "cell_type": "markdown",
   "metadata": {},
   "source": [
    "### Furthermore, this dataset includes global data, mainly focusing on three regions:\n",
    "\n",
    "- **Asia**\n",
    "\n",
    "- **Europe**\n",
    "- **USA**\n",
    "\n",
    "- **Other (Rest of the World)**\n"
   ]
  },
  {
   "cell_type": "markdown",
   "metadata": {},
   "source": [
    "### To start off, let's analyze the engagement level (calculated using all other metrics) of players globally.\n",
    "Engagement is classified as:\n",
    "- **High (Higher Playtime Hours, Sessions, etc.)**\n",
    "- **Medium**\n",
    "- **Low**"
   ]
  }
 ],
 "metadata": {
  "kernelspec": {
   "display_name": "Python 3",
   "language": "python",
   "name": "python3"
  },
  "language_info": {
   "codemirror_mode": {
    "name": "ipython",
    "version": 3
   },
   "file_extension": ".py",
   "mimetype": "text/x-python",
   "name": "python",
   "nbconvert_exporter": "python",
   "pygments_lexer": "ipython3",
   "version": "3.11.5"
  }
 },
 "nbformat": 4,
 "nbformat_minor": 2
}
